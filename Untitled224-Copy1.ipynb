{
 "cells": [
  {
   "cell_type": "code",
   "execution_count": null,
   "id": "35ae15db",
   "metadata": {},
   "outputs": [],
   "source": [
    "#RNN\n",
    "np.random.seed(42)\n",
    "tf.random.set_seed(42)\n",
    "\n",
    "features = df[['appl_stuck_returns', 'appl_stock_30', 'appl_stock_60', 'applstock_volatil_30', 'applstock_volatil_60']].values\n",
    "target = df['Close'].values\n",
    "\n",
    "scaler_features = MinMaxScaler(feature_range=(0, 1))\n",
    "features_scaled = scaler_features.fit_transform(features)\n",
    "scaler_target = MinMaxScaler(feature_range=(0, 1))\n",
    "target_scaled = scaler_target.fit_transform(target.reshape(-1, 1))\n",
    "\n",
    "\n",
    "def create_dataset(data, target, time_step=30):\n",
    "    X, y = [], []\n",
    "    for i in range(len(data) - time_step):\n",
    "        X.append(data[i:(i + time_step), :])\n",
    "        y.append(target[i + time_step])\n",
    "    return np.array(X), np.array(y)\n",
    "\n",
    "time_step = 30\n",
    "X, y = create_dataset(features_scaled, target_scaled, time_step)\n",
    "\n",
    "X_train, X_test, y_train, y_test = train_test_split(X, y, test_size=0.2, shuffle=False)\n",
    "model = Sequential()\n",
    "model.add(SimpleRNN(units=50, return_sequences=True, input_shape=(X_train.shape[1], X_train.shape[2])))\n",
    "model.add(SimpleRNN(units=50, return_sequences=False))\n",
    "model.add(Dense(units=1))\n",
    "\n",
    "model.compile(optimizer='adam', loss='mean_squared_error')\n",
    "model.fit(X_train, y_train, epochs=20, batch_size=32)\n",
    "y_pred_scaled = model.predict(X_test)\n",
    "y_pred_actual = scaler_target.inverse_transform(y_pred_scaled)\n",
    "y_test_actual = scaler_target.inverse_transform(y_test)\n",
    "mae = mean_absolute_error(y_test_actual, y_pred_actual)\n",
    "rmse = np.sqrt(mean_squared_error(y_test_actual, y_pred_actual))\n",
    "\n",
    "print(f\" (MAE): {mae:.4f}\")\n",
    "print(f\"(RMSE): {rmse:.4f}\")\n",
    "print(\"Predicted stock prices: \", y_pred_actual[:5])\n",
    "print(\"Actual stock prices: \", y_test_actual[:5])\n",
    "plt.plot(y_test_actual, color='blue', label='Actual Price')\n",
    "plt.plot(y_pred_actual, color='red', label='Predicted Price')\n",
    "\n",
    "plt.xlabel('Time')\n",
    "plt.ylabel('Price')\n",
    "plt.legend()\n",
    "plt.show()\n"
   ]
  }
 ],
 "metadata": {
  "kernelspec": {
   "display_name": "Python 3",
   "language": "python",
   "name": "python3"
  },
  "language_info": {
   "codemirror_mode": {
    "name": "ipython",
    "version": 3
   },
   "file_extension": ".py",
   "mimetype": "text/x-python",
   "name": "python",
   "nbconvert_exporter": "python",
   "pygments_lexer": "ipython3",
   "version": "3.8.8"
  }
 },
 "nbformat": 4,
 "nbformat_minor": 5
}
