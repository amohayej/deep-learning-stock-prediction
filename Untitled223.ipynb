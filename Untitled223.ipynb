{
 "cells": [
  {
   "cell_type": "code",
   "execution_count": null,
   "id": "374e23d9",
   "metadata": {},
   "outputs": [],
   "source": [
    "#LTSM\n",
    "np.random.seed(42)\n",
    "tf.random.set_seed(42)\n",
    "features = df[['appl_stuck_returns', 'appl_stock_30', 'appl_stock_60', 'applstock_volatil_30', 'applstock_volatil_60']].values\n",
    "target = df['Close'].values\n",
    "scaler_features = MinMaxScaler(feature_range=(0, 1))\n",
    "features_scaled = scaler_features.fit_transform(features)\n",
    "scaler_target = MinMaxScaler(feature_range=(0, 1))\n",
    "target_scaled = scaler_target.fit_transform(target.reshape(-1, 1))\n",
    "\n",
    "def create_dataset(data, target, time_step=30):\n",
    "    X, y = [], []\n",
    "    for i in range(len(data) - time_step):\n",
    "        X.append(data[i:(i + time_step), :])\n",
    "        y.append(target[i + time_step])\n",
    "    return np.array(X), np.array(y)\n",
    "\n",
    "time_step = 30\n",
    "X, y = create_dataset(features_scaled, target_scaled, time_step)\n",
    "X_train, X_test, y_train, y_test = train_test_split(X, y, test_size=0.2, shuffle=False)\n",
    "\n",
    "model = Sequential()\n",
    "model.add(LSTM(units=50, return_sequences=True, input_shape=(X_train.shape[1], X_train.shape[2])))\n",
    "model.add(LSTM(units=50, return_sequences=False))\n",
    "model.add(Dense(units=1))  # Output layer\n",
    "\n",
    "model.compile(optimizer='adam', loss='mean_squared_error')\n",
    "history = model.fit(X_train, y_train, epochs=20, batch_size=32, validation_data=(X_test, y_test))\n",
    "y_pred_scaled = model.predict(X_test)\n",
    "y_pred_actual = scaler_target.inverse_transform(y_pred_scaled)\n",
    "y_test_actual = scaler_target.inverse_transform(y_test)\n",
    "\n",
    "mae = mean_absolute_error(y_test_actual, y_pred_actual)\n",
    "rmse = np.sqrt(mean_squared_error(y_test_actual, y_pred_actual))\n",
    "\n",
    "print(f\" (MAE): {mae:.2f}\")\n",
    "print(f\" (RMSE): {rmse:.2f}\")\n",
    "\n",
    "plt.figure(figsize=(10, 6))\n",
    "plt.plot(y_test_actual, color='blue', label='actual price')\n",
    "plt.plot(y_pred_actual, color='red', label='predicted price')\n",
    "plt.xlabel('Time')\n",
    "plt.ylabel(' Price ')\n",
    "plt.legend()\n",
    "plt.grid(True)\n",
    "plt.show()\n"
   ]
  }
 ],
 "metadata": {
  "kernelspec": {
   "display_name": "Python 3",
   "language": "python",
   "name": "python3"
  },
  "language_info": {
   "codemirror_mode": {
    "name": "ipython",
    "version": 3
   },
   "file_extension": ".py",
   "mimetype": "text/x-python",
   "name": "python",
   "nbconvert_exporter": "python",
   "pygments_lexer": "ipython3",
   "version": "3.8.8"
  }
 },
 "nbformat": 4,
 "nbformat_minor": 5
}
